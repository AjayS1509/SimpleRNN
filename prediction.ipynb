{
 "cells": [
  {
   "cell_type": "code",
   "execution_count": 1,
   "id": "b9d07264",
   "metadata": {},
   "outputs": [],
   "source": [
    "import numpy as np\n",
    "import tensorflow as tf\n",
    "from tensorflow.keras.datasets import imdb\n",
    "from tensorflow.keras.preprocessing import sequence\n",
    "from tensorflow.keras.models import load_model"
   ]
  },
  {
   "cell_type": "code",
   "execution_count": 3,
   "id": "87d36be6",
   "metadata": {},
   "outputs": [],
   "source": [
    "word_index = imdb.get_word_index()\n",
    "reverse_word_index = {value: key  for key, value in word_index.items()}"
   ]
  },
  {
   "cell_type": "code",
   "execution_count": 4,
   "id": "1337acee",
   "metadata": {},
   "outputs": [
    {
     "name": "stderr",
     "output_type": "stream",
     "text": [
      "WARNING:absl:Compiled the loaded model, but the compiled metrics have yet to be built. `model.compile_metrics` will be empty until you train or evaluate the model.\n"
     ]
    },
    {
     "data": {
      "text/html": [
       "<pre style=\"white-space:pre;overflow-x:auto;line-height:normal;font-family:Menlo,'DejaVu Sans Mono',consolas,'Courier New',monospace\"><span style=\"font-weight: bold\">Model: \"sequential_1\"</span>\n",
       "</pre>\n"
      ],
      "text/plain": [
       "\u001b[1mModel: \"sequential_1\"\u001b[0m\n"
      ]
     },
     "metadata": {},
     "output_type": "display_data"
    },
    {
     "data": {
      "text/html": [
       "<pre style=\"white-space:pre;overflow-x:auto;line-height:normal;font-family:Menlo,'DejaVu Sans Mono',consolas,'Courier New',monospace\">┏━━━━━━━━━━━━━━━━━━━━━━━━━━━━━━━━━┳━━━━━━━━━━━━━━━━━━━━━━━━┳━━━━━━━━━━━━━━━┓\n",
       "┃<span style=\"font-weight: bold\"> Layer (type)                    </span>┃<span style=\"font-weight: bold\"> Output Shape           </span>┃<span style=\"font-weight: bold\">       Param # </span>┃\n",
       "┡━━━━━━━━━━━━━━━━━━━━━━━━━━━━━━━━━╇━━━━━━━━━━━━━━━━━━━━━━━━╇━━━━━━━━━━━━━━━┩\n",
       "│ embedding (<span style=\"color: #0087ff; text-decoration-color: #0087ff\">Embedding</span>)           │ (<span style=\"color: #00d7ff; text-decoration-color: #00d7ff\">None</span>, <span style=\"color: #00af00; text-decoration-color: #00af00\">500</span>, <span style=\"color: #00af00; text-decoration-color: #00af00\">128</span>)       │     <span style=\"color: #00af00; text-decoration-color: #00af00\">1,280,000</span> │\n",
       "├─────────────────────────────────┼────────────────────────┼───────────────┤\n",
       "│ simple_rnn (<span style=\"color: #0087ff; text-decoration-color: #0087ff\">SimpleRNN</span>)          │ (<span style=\"color: #00d7ff; text-decoration-color: #00d7ff\">None</span>, <span style=\"color: #00af00; text-decoration-color: #00af00\">128</span>)            │        <span style=\"color: #00af00; text-decoration-color: #00af00\">32,896</span> │\n",
       "├─────────────────────────────────┼────────────────────────┼───────────────┤\n",
       "│ dense (<span style=\"color: #0087ff; text-decoration-color: #0087ff\">Dense</span>)                   │ (<span style=\"color: #00d7ff; text-decoration-color: #00d7ff\">None</span>, <span style=\"color: #00af00; text-decoration-color: #00af00\">1</span>)              │           <span style=\"color: #00af00; text-decoration-color: #00af00\">129</span> │\n",
       "└─────────────────────────────────┴────────────────────────┴───────────────┘\n",
       "</pre>\n"
      ],
      "text/plain": [
       "┏━━━━━━━━━━━━━━━━━━━━━━━━━━━━━━━━━┳━━━━━━━━━━━━━━━━━━━━━━━━┳━━━━━━━━━━━━━━━┓\n",
       "┃\u001b[1m \u001b[0m\u001b[1mLayer (type)                   \u001b[0m\u001b[1m \u001b[0m┃\u001b[1m \u001b[0m\u001b[1mOutput Shape          \u001b[0m\u001b[1m \u001b[0m┃\u001b[1m \u001b[0m\u001b[1m      Param #\u001b[0m\u001b[1m \u001b[0m┃\n",
       "┡━━━━━━━━━━━━━━━━━━━━━━━━━━━━━━━━━╇━━━━━━━━━━━━━━━━━━━━━━━━╇━━━━━━━━━━━━━━━┩\n",
       "│ embedding (\u001b[38;5;33mEmbedding\u001b[0m)           │ (\u001b[38;5;45mNone\u001b[0m, \u001b[38;5;34m500\u001b[0m, \u001b[38;5;34m128\u001b[0m)       │     \u001b[38;5;34m1,280,000\u001b[0m │\n",
       "├─────────────────────────────────┼────────────────────────┼───────────────┤\n",
       "│ simple_rnn (\u001b[38;5;33mSimpleRNN\u001b[0m)          │ (\u001b[38;5;45mNone\u001b[0m, \u001b[38;5;34m128\u001b[0m)            │        \u001b[38;5;34m32,896\u001b[0m │\n",
       "├─────────────────────────────────┼────────────────────────┼───────────────┤\n",
       "│ dense (\u001b[38;5;33mDense\u001b[0m)                   │ (\u001b[38;5;45mNone\u001b[0m, \u001b[38;5;34m1\u001b[0m)              │           \u001b[38;5;34m129\u001b[0m │\n",
       "└─────────────────────────────────┴────────────────────────┴───────────────┘\n"
      ]
     },
     "metadata": {},
     "output_type": "display_data"
    },
    {
     "data": {
      "text/html": [
       "<pre style=\"white-space:pre;overflow-x:auto;line-height:normal;font-family:Menlo,'DejaVu Sans Mono',consolas,'Courier New',monospace\"><span style=\"font-weight: bold\"> Total params: </span><span style=\"color: #00af00; text-decoration-color: #00af00\">1,313,027</span> (5.01 MB)\n",
       "</pre>\n"
      ],
      "text/plain": [
       "\u001b[1m Total params: \u001b[0m\u001b[38;5;34m1,313,027\u001b[0m (5.01 MB)\n"
      ]
     },
     "metadata": {},
     "output_type": "display_data"
    },
    {
     "data": {
      "text/html": [
       "<pre style=\"white-space:pre;overflow-x:auto;line-height:normal;font-family:Menlo,'DejaVu Sans Mono',consolas,'Courier New',monospace\"><span style=\"font-weight: bold\"> Trainable params: </span><span style=\"color: #00af00; text-decoration-color: #00af00\">1,313,025</span> (5.01 MB)\n",
       "</pre>\n"
      ],
      "text/plain": [
       "\u001b[1m Trainable params: \u001b[0m\u001b[38;5;34m1,313,025\u001b[0m (5.01 MB)\n"
      ]
     },
     "metadata": {},
     "output_type": "display_data"
    },
    {
     "data": {
      "text/html": [
       "<pre style=\"white-space:pre;overflow-x:auto;line-height:normal;font-family:Menlo,'DejaVu Sans Mono',consolas,'Courier New',monospace\"><span style=\"font-weight: bold\"> Non-trainable params: </span><span style=\"color: #00af00; text-decoration-color: #00af00\">0</span> (0.00 B)\n",
       "</pre>\n"
      ],
      "text/plain": [
       "\u001b[1m Non-trainable params: \u001b[0m\u001b[38;5;34m0\u001b[0m (0.00 B)\n"
      ]
     },
     "metadata": {},
     "output_type": "display_data"
    },
    {
     "data": {
      "text/html": [
       "<pre style=\"white-space:pre;overflow-x:auto;line-height:normal;font-family:Menlo,'DejaVu Sans Mono',consolas,'Courier New',monospace\"><span style=\"font-weight: bold\"> Optimizer params: </span><span style=\"color: #00af00; text-decoration-color: #00af00\">2</span> (12.00 B)\n",
       "</pre>\n"
      ],
      "text/plain": [
       "\u001b[1m Optimizer params: \u001b[0m\u001b[38;5;34m2\u001b[0m (12.00 B)\n"
      ]
     },
     "metadata": {},
     "output_type": "display_data"
    }
   ],
   "source": [
    "model = load_model('simple_rnn_imdb.h5')\n",
    "model.summary()"
   ]
  },
  {
   "cell_type": "code",
   "execution_count": 6,
   "id": "0bfa134d",
   "metadata": {},
   "outputs": [
    {
     "data": {
      "text/plain": [
       "[array([[ 0.5808554 ,  0.4820388 ,  0.26735374, ...,  0.5877074 ,\n",
       "          0.5255893 ,  0.54819137],\n",
       "        [ 0.03362403, -0.04538453,  0.00117078, ...,  0.02762057,\n",
       "         -0.05934792, -0.02514849],\n",
       "        [ 0.02543655,  0.04918293, -0.00678157, ..., -0.10145964,\n",
       "          0.01850365,  0.02152174],\n",
       "        ...,\n",
       "        [-0.04229802, -0.01494158, -0.00310099, ..., -0.04796294,\n",
       "          0.0131432 , -0.06159756],\n",
       "        [-0.00157259, -0.01422445, -0.02314584, ...,  0.02428881,\n",
       "         -0.02776683, -0.04072723],\n",
       "        [ 0.06081215,  0.12772869, -0.04420489, ...,  0.08596773,\n",
       "          0.05322614,  0.10193162]], shape=(10000, 128), dtype=float32),\n",
       " array([[ 0.12778097, -0.05913839, -0.09436912, ...,  0.09400371,\n",
       "          0.15464108, -0.13687268],\n",
       "        [-0.09056107, -0.01837042, -0.09533581, ...,  0.08007299,\n",
       "          0.17042719,  0.1478002 ],\n",
       "        [ 0.08694471,  0.0512171 ,  0.05754779, ...,  0.08468019,\n",
       "          0.16100405, -0.01495573],\n",
       "        ...,\n",
       "        [-0.02389442,  0.1965781 , -0.12782936, ..., -0.05964531,\n",
       "         -0.02078146, -0.09001359],\n",
       "        [ 0.07176902, -0.00034277,  0.09159125, ...,  0.1474521 ,\n",
       "         -0.04928594, -0.16466114],\n",
       "        [-0.03330789,  0.06777997, -0.05589249, ..., -0.04110212,\n",
       "          0.12157679, -0.05155409]], shape=(128, 128), dtype=float32),\n",
       " array([[ 0.04959653, -0.07977062, -0.02694444, ...,  0.00476898,\n",
       "          0.06428554,  0.02946087],\n",
       "        [ 0.03603645,  0.0992697 ,  0.01009158, ..., -0.13662079,\n",
       "          0.01763377,  0.04646664],\n",
       "        [-0.03351316, -0.03107478, -0.03467356, ..., -0.04489402,\n",
       "          0.04642422,  0.01142931],\n",
       "        ...,\n",
       "        [ 0.01373334,  0.00385662, -0.17482351, ..., -0.09055357,\n",
       "         -0.02477528, -0.15588415],\n",
       "        [-0.09246637,  0.00209018, -0.09845235, ..., -0.06706465,\n",
       "         -0.06624077, -0.03272166],\n",
       "        [ 0.04531753, -0.02629451,  0.16265582, ..., -0.12335727,\n",
       "          0.02908842, -0.01364528]], shape=(128, 128), dtype=float32),\n",
       " array([-0.01571157, -0.00795016,  0.03150273,  0.00940528,  0.00479096,\n",
       "        -0.01301415, -0.01546422, -0.04463547,  0.0040065 , -0.00256551,\n",
       "         0.01324096, -0.03974725,  0.00956627, -0.01244278, -0.01376042,\n",
       "         0.01611725, -0.03176095,  0.00624559, -0.03702825, -0.00076537,\n",
       "        -0.01786295, -0.02289863, -0.00934539, -0.00075729, -0.03571614,\n",
       "         0.00989139, -0.02683824,  0.00226112, -0.04162849,  0.00207624,\n",
       "        -0.03113415,  0.07023985, -0.02002387, -0.03958064,  0.00640127,\n",
       "         0.00355136, -0.00897199,  0.02481152, -0.00942892, -0.04302879,\n",
       "        -0.00323831, -0.00890861, -0.00910368, -0.00945676, -0.01540408,\n",
       "         0.04237156,  0.03383803,  0.01348194,  0.01230963, -0.01429369,\n",
       "        -0.01763419, -0.00607648,  0.0159365 , -0.01254612, -0.03321835,\n",
       "        -0.02846989,  0.00361285, -0.02446719,  0.00967804, -0.00890092,\n",
       "         0.0104019 , -0.05923606, -0.00454012, -0.04682852,  0.00182266,\n",
       "         0.01812133, -0.02653218, -0.027466  , -0.02118228, -0.01331934,\n",
       "        -0.05492082, -0.02396994,  0.00922078, -0.00967346, -0.01726384,\n",
       "        -0.03487116, -0.00599157, -0.01837657,  0.04091067,  0.01898187,\n",
       "        -0.04889403, -0.02132623, -0.0141476 , -0.02218472, -0.01666611,\n",
       "         0.02331013, -0.04162172, -0.01556892,  0.00647655, -0.05230952,\n",
       "        -0.01739206, -0.06595089,  0.00313096, -0.01532348,  0.00124114,\n",
       "        -0.03552254, -0.00716175, -0.04894248,  0.01331592,  0.04466033,\n",
       "        -0.02049091, -0.01641981, -0.03928326, -0.01601716, -0.0028291 ,\n",
       "        -0.07683403, -0.03902594, -0.01352242, -0.00733556, -0.02785292,\n",
       "        -0.0380302 , -0.0170971 ,  0.01695743, -0.03414767, -0.01737017,\n",
       "         0.02741179, -0.04745834,  0.00120893,  0.00648697, -0.02639581,\n",
       "        -0.02006417, -0.01717095,  0.01604714, -0.01470364,  0.00896846,\n",
       "        -0.04004957,  0.00522454, -0.01182306], dtype=float32),\n",
       " array([[-0.07298287],\n",
       "        [ 0.15863755],\n",
       "        [-0.0494456 ],\n",
       "        [-0.04084364],\n",
       "        [ 0.05301223],\n",
       "        [ 0.08741298],\n",
       "        [ 0.07172151],\n",
       "        [ 0.03716439],\n",
       "        [-0.00266744],\n",
       "        [-0.11694038],\n",
       "        [-0.20316304],\n",
       "        [ 0.14079252],\n",
       "        [-0.03591065],\n",
       "        [-0.00901642],\n",
       "        [ 0.05908152],\n",
       "        [ 0.04647056],\n",
       "        [-0.3038091 ],\n",
       "        [-0.00686781],\n",
       "        [ 0.14578886],\n",
       "        [-0.13751817],\n",
       "        [-0.02879253],\n",
       "        [ 0.03953657],\n",
       "        [ 0.15867187],\n",
       "        [ 0.00957318],\n",
       "        [ 0.23405425],\n",
       "        [ 0.22868459],\n",
       "        [ 0.11102021],\n",
       "        [-0.16962202],\n",
       "        [ 0.17847037],\n",
       "        [-0.00649325],\n",
       "        [-0.04747737],\n",
       "        [ 0.12059353],\n",
       "        [ 0.1469342 ],\n",
       "        [-0.3812143 ],\n",
       "        [-0.5119101 ],\n",
       "        [-0.16344456],\n",
       "        [ 0.34198776],\n",
       "        [-0.06073595],\n",
       "        [-0.15908493],\n",
       "        [ 0.15021434],\n",
       "        [-0.18068509],\n",
       "        [ 0.06265623],\n",
       "        [ 0.15975343],\n",
       "        [-0.1376893 ],\n",
       "        [ 0.10780702],\n",
       "        [-0.35927632],\n",
       "        [-0.01002341],\n",
       "        [ 0.3070936 ],\n",
       "        [-0.09796005],\n",
       "        [ 0.0220334 ],\n",
       "        [ 0.07335229],\n",
       "        [-0.11449757],\n",
       "        [-0.02949956],\n",
       "        [ 0.03288613],\n",
       "        [-0.13908105],\n",
       "        [ 0.13933536],\n",
       "        [ 0.14272617],\n",
       "        [ 0.20635417],\n",
       "        [ 0.08074281],\n",
       "        [ 0.18766187],\n",
       "        [-0.12748611],\n",
       "        [-0.06691891],\n",
       "        [-0.30801544],\n",
       "        [ 0.27812153],\n",
       "        [-0.22322887],\n",
       "        [ 0.13954693],\n",
       "        [-0.18573856],\n",
       "        [-0.12014528],\n",
       "        [ 0.00257496],\n",
       "        [ 0.4160855 ],\n",
       "        [-0.09304638],\n",
       "        [-0.09175353],\n",
       "        [-0.12918258],\n",
       "        [ 0.18926474],\n",
       "        [ 0.209974  ],\n",
       "        [ 0.04083891],\n",
       "        [-0.00179109],\n",
       "        [-0.11875535],\n",
       "        [ 0.07711592],\n",
       "        [-0.00117161],\n",
       "        [ 0.04733012],\n",
       "        [-0.35515106],\n",
       "        [ 0.00510713],\n",
       "        [ 0.17551512],\n",
       "        [ 0.07274628],\n",
       "        [ 0.12473598],\n",
       "        [ 0.07867809],\n",
       "        [-0.17475544],\n",
       "        [-0.22086711],\n",
       "        [-0.03667852],\n",
       "        [ 0.23562197],\n",
       "        [-0.42687   ],\n",
       "        [-0.13391598],\n",
       "        [ 0.32259887],\n",
       "        [-0.16867867],\n",
       "        [-0.20550756],\n",
       "        [-0.12162121],\n",
       "        [ 0.22817312],\n",
       "        [-0.05458844],\n",
       "        [-0.1449892 ],\n",
       "        [ 0.18016249],\n",
       "        [ 0.0261539 ],\n",
       "        [ 0.16256621],\n",
       "        [ 0.19543478],\n",
       "        [-0.04935947],\n",
       "        [-0.2581023 ],\n",
       "        [ 0.1472839 ],\n",
       "        [ 0.19980556],\n",
       "        [-0.02546944],\n",
       "        [-0.13896357],\n",
       "        [ 0.18732667],\n",
       "        [-0.13191926],\n",
       "        [ 0.09708667],\n",
       "        [-0.2182659 ],\n",
       "        [ 0.10965297],\n",
       "        [ 0.19450088],\n",
       "        [ 0.14252509],\n",
       "        [-0.17813843],\n",
       "        [-0.04175293],\n",
       "        [ 0.05384016],\n",
       "        [-0.04961349],\n",
       "        [-0.1680284 ],\n",
       "        [-0.00379816],\n",
       "        [ 0.03721461],\n",
       "        [ 0.13916631],\n",
       "        [-0.04400498],\n",
       "        [ 0.12392125],\n",
       "        [-0.08720059]], dtype=float32),\n",
       " array([0.04278386], dtype=float32)]"
      ]
     },
     "execution_count": 6,
     "metadata": {},
     "output_type": "execute_result"
    }
   ],
   "source": [
    "model.get_weights()"
   ]
  },
  {
   "cell_type": "code",
   "execution_count": 7,
   "id": "ee47fd42",
   "metadata": {},
   "outputs": [],
   "source": [
    "def decode_review(encoded_review):\n",
    "    return ' '.join([reverse_word_index.get(i - 3, '?') for i in encoded_review])\n",
    "\n",
    "def preprocess_text(text):\n",
    "    words = text.lower().split()\n",
    "    encoded_review = [word_index.get(word, 2) + 3 for word in words]\n",
    "    padding_review = sequence.pad_sequences([encoded_review], maxlen=500)\n",
    "    return padding_review"
   ]
  },
  {
   "cell_type": "code",
   "execution_count": 11,
   "id": "80ef2eef",
   "metadata": {},
   "outputs": [],
   "source": [
    "##Prediction function\n",
    "def prediction_sentiment(review):\n",
    "    preprocessed_input = preprocess_text(review)\n",
    "\n",
    "    prediction = model.predict(preprocessed_input)\n",
    "\n",
    "    sentiment = 'Postive' if prediction[0][0] > 0.5 else 'Negative'\n",
    "\n",
    "    return sentiment, prediction[0][0]"
   ]
  },
  {
   "cell_type": "code",
   "execution_count": 12,
   "id": "f6f6fb48",
   "metadata": {},
   "outputs": [
    {
     "name": "stdout",
     "output_type": "stream",
     "text": [
      "\u001b[1m1/1\u001b[0m \u001b[32m━━━━━━━━━━━━━━━━━━━━\u001b[0m\u001b[37m\u001b[0m \u001b[1m0s\u001b[0m 58ms/step\n",
      "Review: This movie was fantastic! The acting was great and the plot was thrilling.\n",
      "Sentiment: Postive\n",
      "Prediction Score: 0.545354962348938\n"
     ]
    }
   ],
   "source": [
    "example_review = 'This movie was fantastic! The acting was great and the plot was thrilling.'\n",
    "sentiment,score = prediction_sentiment(example_review)\n",
    "\n",
    "print(f'Review: {example_review}')\n",
    "print(f'Sentiment: {sentiment}')\n",
    "print(f'Prediction Score: {score}')"
   ]
  },
  {
   "cell_type": "code",
   "execution_count": null,
   "id": "018e6f7c",
   "metadata": {},
   "outputs": [],
   "source": []
  }
 ],
 "metadata": {
  "kernelspec": {
   "display_name": "Python 3",
   "language": "python",
   "name": "python3"
  },
  "language_info": {
   "codemirror_mode": {
    "name": "ipython",
    "version": 3
   },
   "file_extension": ".py",
   "mimetype": "text/x-python",
   "name": "python",
   "nbconvert_exporter": "python",
   "pygments_lexer": "ipython3",
   "version": "3.11.0"
  }
 },
 "nbformat": 4,
 "nbformat_minor": 5
}
